{
 "cells": [
  {
   "cell_type": "code",
   "execution_count": 1,
   "metadata": {},
   "outputs": [],
   "source": [
    "import torch\n",
    "from matplotlib import pyplot as plt\n",
    "from IPython.core.interactiveshell import InteractiveShell\n",
    "InteractiveShell.ast_node_interactivity = \"all\""
   ]
  },
  {
   "cell_type": "code",
   "execution_count": 2,
   "metadata": {},
   "outputs": [
    {
     "name": "stdout",
     "output_type": "stream",
     "text": [
      "Result:  tensor(18., grad_fn=<MeanBackward0>)\n"
     ]
    }
   ],
   "source": [
    "x = torch.ones(2, 2, requires_grad=True)\n",
    "y = x + 2\n",
    "z = 2*y**2\n",
    "out = z.mean()\n",
    "print(\"Result: \", out)"
   ]
  },
  {
   "cell_type": "code",
   "execution_count": 3,
   "metadata": {},
   "outputs": [
    {
     "name": "stdout",
     "output_type": "stream",
     "text": [
      "Gradient of x:  tensor([[3., 3.],\n",
      "        [3., 3.]])\n"
     ]
    }
   ],
   "source": [
    "# out 기준 역전파 진행, x의 gradient 계산\n",
    "\n",
    "out.backward()\n",
    "print(\"Gradient of x: \", x.grad)"
   ]
  },
  {
   "cell_type": "code",
   "execution_count": 4,
   "metadata": {},
   "outputs": [],
   "source": [
    "x = torch.FloatTensor(range(5)).unsqueeze(1) # 5x1 크기의 텐서 생성\n",
    "# x = torch.FloatTensor(range(5)).view(-1, 1)  # 5x1 크기의 텐서 생성\n",
    "# x = torch.FloatTensor(range(5)).reshape(-1, 1)  # 5x1 크기의 텐서 생성\n",
    "\n",
    "y = 2 * x + torch.rand(5, 1)\n",
    "num_features = x.shape[1]       # 인스턴스의 수: 5, 특징의 수: 1"
   ]
  },
  {
   "cell_type": "code",
   "execution_count": 5,
   "metadata": {},
   "outputs": [],
   "source": [
    "w = torch.randn(num_features, 1, requires_grad=True) # 가중치 텐서 생성\n",
    "b = torch.randn(1, requires_grad=True)               # 편향 텐서 생성"
   ]
  },
  {
   "cell_type": "code",
   "execution_count": 6,
   "metadata": {},
   "outputs": [],
   "source": [
    "learning_rate = 1.e-3\n",
    "optimizer = torch.optim.SGD([w, b], lr=learning_rate) # SGD 옵티마이저 생성"
   ]
  },
  {
   "cell_type": "code",
   "execution_count": 7,
   "metadata": {},
   "outputs": [
    {
     "name": "stdout",
     "output_type": "stream",
     "text": [
      "Epoch    0/1000, Loss: 7.426354\n",
      "Epoch  100/1000, Loss: 1.496302\n",
      "Epoch  200/1000, Loss: 0.989539\n",
      "Epoch  300/1000, Loss: 0.859832\n",
      "Epoch  400/1000, Loss: 0.766258\n",
      "Epoch  500/1000, Loss: 0.684665\n",
      "Epoch  600/1000, Loss: 0.612354\n",
      "Epoch  700/1000, Loss: 0.548188\n",
      "Epoch  800/1000, Loss: 0.491245\n",
      "Epoch  900/1000, Loss: 0.440712\n",
      "Epoch 1000/1000, Loss: 0.395866\n"
     ]
    }
   ],
   "source": [
    "loss_stack = []\n",
    "for epoch in range(1001):\n",
    "    optimizer.zero_grad() # 최적화는 계산을 누적시키기 때문에 매 에폭마다 누적된 값을 초기화한다. 즉, 이전 gradient 값들을 초기화한다.\n",
    "    y_pred = torch.matmul(x, w) + b # 예측값 계산\n",
    "    loss = torch.mean((y_pred - y)**2) # MSE 손실 계산\n",
    "    loss.backward() # w, b에 대한 loss의 gradient 자동 계산\n",
    "    optimizer.step() # 파라미터 업데이트\n",
    "    loss_stack.append(loss.item())\n",
    "\n",
    "    if epoch % 100 == 0:\n",
    "        print(f'Epoch {epoch:4d}/1000, Loss: {loss.item():.6f}')"
   ]
  },
  {
   "cell_type": "markdown",
   "metadata": {},
   "source": [
    "`w.grad`는 **`w`라는 텐서 객체 안에 저장된다.**\n",
    "\n",
    "PyTorch에서 텐서는 그냥 데이터만 들고 있는 게 아니고, **gradient 정보도 함께 저장할 수 있는 구조**이다.\n",
    "\n",
    "---\n",
    "\n",
    "### ✅ `w.grad`는 `w`의 속성이다\n",
    "\n",
    "```python\n",
    "w = torch.randn(3, 1, requires_grad=True)\n",
    "```\n",
    "\n",
    "- `requires_grad=True`를 설정하면 PyTorch는 `w`가 **학습 대상**임을 인식하고,\n",
    "- 나중에 `loss.backward()`를 호출하면,\n",
    "- PyTorch가 자동으로 **`w.grad`에 기울기를 저장**한다.\n",
    "\n",
    "---\n",
    "\n",
    "### 💡 연결 포인트\n",
    "\n",
    "loss.backward()\n",
    "→ .grad 값 계산됨 (ex. w.grad, b.grad에 저장)\n",
    "\n",
    "optimizer.step()\n",
    "→ .grad 값 이용해서 w, b 자체를 업데이트\n",
    "\n",
    "---"
   ]
  },
  {
   "cell_type": "markdown",
   "metadata": {},
   "source": [
    "\n",
    "## loss.backward( )의 작동 방식 \n",
    "\n",
    "> PyTorch의 기본 `loss.backward()`는 gradient의 평균이 아니라, 합(sum)을 계산한다.  \n",
    "> 그래서 `optimizer.step()`은 \"gradient의 합 × learning rate\"로 파라미터를 업데이트하게 된다.\n",
    "\n",
    "---\n",
    "\n",
    "## 💡 그럼 왜 이런 구조일까?\n",
    "\n",
    "PyTorch는 `loss.backward()` 호출 시에:\n",
    "\n",
    "```python\n",
    "dL/dw = ∂L₁/∂w + ∂L₂/∂w + ∂L₃/∂w + ... + ∂L₅/∂w  # → 합!\n",
    "```\n",
    "\n",
    "을 그대로 `.grad`에 넣어준다.\n",
    "\n",
    "그래서 만약 우리가 5개 샘플(batch size 5)을 한꺼번에 학습했다면,  \n",
    "loss 함수가 각 샘플의 손실을 평균한 거라면, gradient도 평균을 내줘야 **스케일이 잘 맞는다.**\n",
    "\n",
    "---\n",
    "\n",
    "## ✅ 그래서 대부분의 경우 이렇게 처리!\n",
    "\n",
    "```python\n",
    "loss = torch.mean((y_pred - y) ** 2)  # 평균 손실\n",
    "loss.backward()  # 여기서 평균된 loss 기준으로 gradient 계산됨\n",
    "```\n",
    "\n",
    "- 위처럼 `loss` 자체를 **평균(mean)** 처리하면,\n",
    "- `backward()`가 내부적으로 **합산된 gradient를 1/N으로 자동 스케일링** 해줌\n",
    "\n",
    "---\n",
    "\n",
    "## 📌 정리하자면\n",
    "\n",
    "| 상황 | 결과 |\n",
    "|------|------|\n",
    "| `loss = torch.sum(...)` | gradient는 **합**만 계산됨 → `∇L = ∑ ∇Lᵢ` |\n",
    "| `loss = torch.mean(...)` | gradient는 **평균**이 적용된 형태 → `∇L = (1/N) ∑ ∇Lᵢ` |\n",
    "| `loss.backward()` | loss 값 기준으로 자동 미분 → loss가 평균이면 gradient도 평균됨 |\n",
    "| `optimizer.step()` | `.grad`에 있는 값(합이든 평균이든)에 **learning rate를 곱해서** 파라미터 업데이트 |\n",
    "\n",
    "---"
   ]
  },
  {
   "cell_type": "code",
   "execution_count": 8,
   "metadata": {},
   "outputs": [],
   "source": [
    "# 학습된 모델을 이용해 예측값 계산\n",
    "with torch.no_grad(): # 최적화를 사용하지 않으므로 requires_grad를 비활성화 한다.\n",
    "    y_pred = torch.matmul(x, w) + b\n",
    "    # with 블록은 새로운 스코프를 생성하지 않기 때문에 with 블록 내부에서 정의된 변수는 외부에서도 접근 가능"
   ]
  },
  {
   "cell_type": "code",
   "execution_count": 9,
   "metadata": {},
   "outputs": [
    {
     "data": {
      "text/plain": [
       "<Figure size 1000x500 with 0 Axes>"
      ]
     },
     "execution_count": 9,
     "metadata": {},
     "output_type": "execute_result"
    },
    {
     "data": {
      "text/plain": [
       "<Axes: >"
      ]
     },
     "execution_count": 9,
     "metadata": {},
     "output_type": "execute_result"
    },
    {
     "data": {
      "text/plain": [
       "[<matplotlib.lines.Line2D at 0x224557634d0>]"
      ]
     },
     "execution_count": 9,
     "metadata": {},
     "output_type": "execute_result"
    },
    {
     "data": {
      "text/plain": [
       "Text(0.5, 1.0, 'Loss graph')"
      ]
     },
     "execution_count": 9,
     "metadata": {},
     "output_type": "execute_result"
    },
    {
     "data": {
      "text/plain": [
       "<Axes: >"
      ]
     },
     "execution_count": 9,
     "metadata": {},
     "output_type": "execute_result"
    },
    {
     "data": {
      "text/plain": [
       "[<matplotlib.lines.Line2D at 0x2245585b610>]"
      ]
     },
     "execution_count": 9,
     "metadata": {},
     "output_type": "execute_result"
    },
    {
     "data": {
      "text/plain": [
       "[<matplotlib.lines.Line2D at 0x2245588b4d0>]"
      ]
     },
     "execution_count": 9,
     "metadata": {},
     "output_type": "execute_result"
    },
    {
     "data": {
      "text/plain": [
       "<matplotlib.legend.Legend at 0x2245584d2b0>"
      ]
     },
     "execution_count": 9,
     "metadata": {},
     "output_type": "execute_result"
    },
    {
     "data": {
      "text/plain": [
       "Text(0.5, 1.0, 'Prediction')"
      ]
     },
     "execution_count": 9,
     "metadata": {},
     "output_type": "execute_result"
    },
    {
     "data": {
      "image/png": "[encoded data removed]",
      "text/plain": [
       "<Figure size 1000x500 with 2 Axes>"
      ]
     },
     "metadata": {},
     "output_type": "display_data"
    }
   ],
   "source": [
    "plt.figure(figsize=(10, 5))\n",
    "\n",
    "# subplot은 하나의 그림(Figure) 안에 여러 개의 작은 그래프(Subplot)를 넣을 때 사용\n",
    "# 121은 \"1행 2열 중 첫 번째 위치\"를 의미한다.\n",
    "plt.subplot(121)\n",
    "plt.plot(loss_stack)\n",
    "plt.title('Loss graph')\n",
    "\n",
    "plt.subplot(122)\n",
    "plt.plot(x, y, '.b')    # 파란색 점 그래프\n",
    "plt.plot(x, y_pred, '-r')   # 빨간색 실선 그래프\n",
    "plt.legend(['ground truth', 'prediction'])\n",
    "plt.title(\"Prediction\")\n",
    "plt.show()"
   ]
  }
 ],
 "metadata": {
  "kernelspec": {
   "display_name": "pytorch",
   "language": "python",
   "name": "python3"
  },
  "language_info": {
   "codemirror_mode": {
    "name": "ipython",
    "version": 3
   },
   "file_extension": ".py",
   "mimetype": "text/x-python",
   "name": "python",
   "nbconvert_exporter": "python",
   "pygments_lexer": "ipython3",
   "version": "3.13.2"
  }
 },
 "nbformat": 4,
 "nbformat_minor": 2
}
