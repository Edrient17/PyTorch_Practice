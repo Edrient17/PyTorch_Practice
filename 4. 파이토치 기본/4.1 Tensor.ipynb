{
 "cells": [
  {
   "cell_type": "code",
   "execution_count": 1,
   "metadata": {},
   "outputs": [],
   "source": [
    "from IPython.core.interactiveshell import InteractiveShell\n",
    "InteractiveShell.ast_node_interactivity = \"all\"\n",
    "\n",
    "import torch\n",
    "import numpy as np"
   ]
  },
  {
   "cell_type": "code",
   "execution_count": 2,
   "metadata": {},
   "outputs": [
    {
     "name": "stdout",
     "output_type": "stream",
     "text": [
      "tensor([[0., 0., 0., 0.],\n",
      "        [0., 0., 0., 0.],\n",
      "        [0., 0., 0., 0.],\n",
      "        [0., 0., 0., 0.],\n",
      "        [0., 0., 0., 0.]])\n"
     ]
    },
    {
     "data": {
      "text/plain": [
       "tensor([[1., 1., 1.],\n",
       "        [1., 1., 1.],\n",
       "        [1., 1., 1.]])"
      ]
     },
     "execution_count": 2,
     "metadata": {},
     "output_type": "execute_result"
    },
    {
     "data": {
      "text/plain": [
       "tensor([[0., 0., 0.],\n",
       "        [0., 0., 0.]])"
      ]
     },
     "execution_count": 2,
     "metadata": {},
     "output_type": "execute_result"
    },
    {
     "data": {
      "text/plain": [
       "tensor([[8.0667e-01, 4.2689e-01, 1.0890e-04, 5.1847e-01, 6.1706e-01, 6.8373e-01],\n",
       "        [8.2667e-01, 2.9107e-01, 8.6561e-01, 2.1437e-01, 3.4803e-01, 7.9463e-01],\n",
       "        [1.2309e-01, 2.2730e-01, 1.0159e-01, 2.2578e-01, 6.5319e-01, 3.6370e-01],\n",
       "        [1.0968e-01, 7.5320e-01, 2.6394e-01, 1.2021e-01, 8.7312e-01, 7.0697e-01],\n",
       "        [9.4097e-01, 1.3909e-01, 7.7680e-01, 6.0322e-02, 6.5171e-02, 9.6031e-02]])"
      ]
     },
     "execution_count": 2,
     "metadata": {},
     "output_type": "execute_result"
    }
   ],
   "source": [
    "# tensor는 pytorch의 기본 단위이며, GPU 연산을 가능케 한다.\n",
    "x = torch.empty(5, 4)\n",
    "print(x)\n",
    "torch.ones(3, 3)\n",
    "torch.zeros(2, 3)\n",
    "torch.rand(5, 6)"
   ]
  },
  {
   "cell_type": "code",
   "execution_count": 3,
   "metadata": {},
   "outputs": [
    {
     "data": {
      "text/plain": [
       "tensor([13,  4])"
      ]
     },
     "execution_count": 3,
     "metadata": {},
     "output_type": "execute_result"
    },
    {
     "data": {
      "text/plain": [
       "tensor([ 4., 56.,  7.])"
      ]
     },
     "execution_count": 3,
     "metadata": {},
     "output_type": "execute_result"
    },
    {
     "data": {
      "text/plain": [
       "tensor([13,  4])"
      ]
     },
     "execution_count": 3,
     "metadata": {},
     "output_type": "execute_result"
    }
   ],
   "source": [
    "# list, numpy 배열을 텐서로 만들 수 있다.\n",
    "l = [13, 4]\n",
    "r = np.array([4, 56, 7])\n",
    "torch.tensor(l)\n",
    "\n",
    "# 구체적인 텐서 타입 정의 가능\n",
    "torch.FloatTensor(r)\n",
    "torch.LongTensor(l)"
   ]
  },
  {
   "cell_type": "code",
   "execution_count": 4,
   "metadata": {},
   "outputs": [
    {
     "data": {
      "text/plain": [
       "5"
      ]
     },
     "execution_count": 4,
     "metadata": {},
     "output_type": "execute_result"
    },
    {
     "data": {
      "text/plain": [
       "4"
      ]
     },
     "execution_count": 4,
     "metadata": {},
     "output_type": "execute_result"
    },
    {
     "data": {
      "text/plain": [
       "4"
      ]
     },
     "execution_count": 4,
     "metadata": {},
     "output_type": "execute_result"
    },
    {
     "data": {
      "text/plain": [
       "torch.Tensor"
      ]
     },
     "execution_count": 4,
     "metadata": {},
     "output_type": "execute_result"
    },
    {
     "data": {
      "text/plain": [
       "tensor([[0.8752, 1.0325],\n",
       "        [0.4743, 1.2793]])"
      ]
     },
     "execution_count": 4,
     "metadata": {},
     "output_type": "execute_result"
    },
    {
     "data": {
      "text/plain": [
       "tensor([[0.8752, 1.0325],\n",
       "        [0.4743, 1.2793]])"
      ]
     },
     "execution_count": 4,
     "metadata": {},
     "output_type": "execute_result"
    },
    {
     "data": {
      "text/plain": [
       "tensor([[0.8752, 1.0325],\n",
       "        [0.4743, 1.2793]])"
      ]
     },
     "execution_count": 4,
     "metadata": {},
     "output_type": "execute_result"
    }
   ],
   "source": [
    "# 텐서의 크기\n",
    "x.size()[0]\n",
    "x.size()[1]\n",
    "x.size(1)\n",
    "\n",
    "# 텐서의 타입\n",
    "type(x)\n",
    "\n",
    "# 텐서의 연산\n",
    "x = torch.rand(2, 2)\n",
    "y = torch.rand(2, 2)\n",
    "\n",
    "x + y\n",
    "torch.add(x, y)\n",
    "y.add_(x)"
   ]
  },
  {
   "cell_type": "code",
   "execution_count": 5,
   "metadata": {},
   "outputs": [
    {
     "data": {
      "text/plain": [
       "torch.Size([8, 8])"
      ]
     },
     "execution_count": 5,
     "metadata": {},
     "output_type": "execute_result"
    },
    {
     "data": {
      "text/plain": [
       "torch.Size([64])"
      ]
     },
     "execution_count": 5,
     "metadata": {},
     "output_type": "execute_result"
    },
    {
     "data": {
      "text/plain": [
       "torch.Size([4, 4, 4])"
      ]
     },
     "execution_count": 5,
     "metadata": {},
     "output_type": "execute_result"
    }
   ],
   "source": [
    "# 텐서의 크기 변환\n",
    "x = torch.rand(8, 8)\n",
    "x.size()\n",
    "\n",
    "x.view(64).size()\n",
    "x.view(-1, 4, 4).size()"
   ]
  },
  {
   "cell_type": "code",
   "execution_count": 6,
   "metadata": {},
   "outputs": [
    {
     "data": {
      "text/plain": [
       "tensor([[0.0997, 0.4234, 0.2116, 0.4760, 0.8802, 0.6521, 0.2142, 0.1536],\n",
       "        [0.1534, 0.6203, 0.7171, 0.6157, 0.7551, 0.2953, 0.0719, 0.2670],\n",
       "        [0.5039, 0.7819, 0.3997, 0.5564, 0.8546, 0.1584, 0.6480, 0.6885],\n",
       "        [0.4602, 0.9122, 0.4026, 0.5313, 0.3906, 0.7317, 0.9803, 0.7168],\n",
       "        [0.5343, 0.9832, 0.3270, 0.1746, 0.2228, 0.0147, 0.1672, 0.6415],\n",
       "        [0.7567, 0.2358, 0.7453, 0.6929, 0.4773, 0.0035, 0.0030, 0.5482],\n",
       "        [0.5638, 0.2523, 0.6349, 0.2341, 0.8877, 0.7043, 0.3564, 0.6391],\n",
       "        [0.9003, 0.0679, 0.5587, 0.9144, 0.3571, 0.4622, 0.4580, 0.5934]])"
      ]
     },
     "execution_count": 6,
     "metadata": {},
     "output_type": "execute_result"
    },
    {
     "data": {
      "text/plain": [
       "numpy.ndarray"
      ]
     },
     "execution_count": 6,
     "metadata": {},
     "output_type": "execute_result"
    },
    {
     "data": {
      "text/plain": [
       "array([[0.09971058, 0.42335373, 0.21161914, 0.4759702 , 0.8801831 ,\n",
       "        0.6521071 , 0.21420246, 0.15355706],\n",
       "       [0.15341526, 0.62028974, 0.71713907, 0.61568236, 0.7551219 ,\n",
       "        0.29533476, 0.07193363, 0.266966  ],\n",
       "       [0.5039199 , 0.78194416, 0.39966035, 0.5564108 , 0.8545855 ,\n",
       "        0.15842968, 0.6479584 , 0.688459  ],\n",
       "       [0.4602052 , 0.9122344 , 0.40263206, 0.53127015, 0.39056712,\n",
       "        0.7316524 , 0.98030996, 0.7167932 ],\n",
       "       [0.5342789 , 0.98316854, 0.32702774, 0.1746105 , 0.2227683 ,\n",
       "        0.01471931, 0.16719747, 0.6415342 ],\n",
       "       [0.756741  , 0.23576993, 0.7452663 , 0.69291246, 0.47725147,\n",
       "        0.00350428, 0.00297409, 0.5482221 ],\n",
       "       [0.5637878 , 0.25229138, 0.6348861 , 0.23406935, 0.88769716,\n",
       "        0.70426774, 0.35641778, 0.6391402 ],\n",
       "       [0.90028626, 0.06787819, 0.55871135, 0.91439456, 0.35711706,\n",
       "        0.4621542 , 0.45799828, 0.5934459 ]], dtype=float32)"
      ]
     },
     "execution_count": 6,
     "metadata": {},
     "output_type": "execute_result"
    }
   ],
   "source": [
    "# 텐서에서 넘파이 배열로 변환\n",
    "x = torch.rand(8, 8)\n",
    "x\n",
    "y = x.numpy()\n",
    "type(y)\n",
    "y"
   ]
  },
  {
   "cell_type": "code",
   "execution_count": 7,
   "metadata": {},
   "outputs": [
    {
     "data": {
      "text/plain": [
       "1.0"
      ]
     },
     "execution_count": 7,
     "metadata": {},
     "output_type": "execute_result"
    }
   ],
   "source": [
    "# 단일 텐서에서 값으로 반환하기\n",
    "x = torch.ones(1)  \n",
    "x.item()    #.item()은 손실 함숫값과 같이 숫자가 하나인 텐서를 텐서가 아닌 값으로 만들어 준다."
   ]
  },
  {
   "cell_type": "markdown",
   "metadata": {},
   "source": [
    "### 텐서의 핵심 개념\n",
    "\n",
    "| 개념 | 설명 |\n",
    "|------|------|\n",
    "| **스칼라 (Scalar)** | 0차원 텐서. 예: `torch.tensor(3.0)` |\n",
    "| **벡터 (Vector)** | 1차원 텐서. 예: `torch.tensor([1.0, 2.0, 3.0])` |\n",
    "| **행렬 (Matrix)** | 2차원 텐서. 예: `torch.tensor([[1, 2], [3, 4]])` |\n",
    "| **3차원 이상 텐서** | 이미지나 시계열 데이터 등에 사용. 예: `[batch_size, channel, height, width]` 형태 |"
   ]
  }
 ],
 "metadata": {
  "kernelspec": {
   "display_name": "pytorch",
   "language": "python",
   "name": "python3"
  },
  "language_info": {
   "codemirror_mode": {
    "name": "ipython",
    "version": 3
   },
   "file_extension": ".py",
   "mimetype": "text/x-python",
   "name": "python",
   "nbconvert_exporter": "python",
   "pygments_lexer": "ipython3",
   "version": "3.13.2"
  }
 },
 "nbformat": 4,
 "nbformat_minor": 2
}
