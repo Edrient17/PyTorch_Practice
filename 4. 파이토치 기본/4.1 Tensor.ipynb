{
 "cells": [
  {
   "cell_type": "code",
   "execution_count": 1,
   "metadata": {},
   "outputs": [],
   "source": [
    "import torch\n",
    "import numpy as np\n",
    "from IPython.core.interactiveshell import InteractiveShell\n",
    "InteractiveShell.ast_node_interactivity = \"all\""
   ]
  },
  {
   "cell_type": "code",
   "execution_count": 2,
   "metadata": {},
   "outputs": [
    {
     "name": "stdout",
     "output_type": "stream",
     "text": [
      "tensor([[0., 0., 0., 0.],\n",
      "        [0., 0., 0., 0.],\n",
      "        [0., 0., 0., 0.],\n",
      "        [0., 0., 0., 0.],\n",
      "        [0., 0., 0., 0.]])\n"
     ]
    },
    {
     "data": {
      "text/plain": [
       "tensor([[1., 1., 1.],\n",
       "        [1., 1., 1.],\n",
       "        [1., 1., 1.]])"
      ]
     },
     "execution_count": 2,
     "metadata": {},
     "output_type": "execute_result"
    },
    {
     "data": {
      "text/plain": [
       "tensor([[0., 0., 0.],\n",
       "        [0., 0., 0.]])"
      ]
     },
     "execution_count": 2,
     "metadata": {},
     "output_type": "execute_result"
    },
    {
     "data": {
      "text/plain": [
       "tensor([[0.1412, 0.3325, 0.9215, 0.0480, 0.5803, 0.4394],\n",
       "        [0.2324, 0.0057, 0.3376, 0.5291, 0.5825, 0.6442],\n",
       "        [0.2877, 0.3489, 0.6413, 0.8730, 0.9766, 0.6153],\n",
       "        [0.2439, 0.0842, 0.0257, 0.2035, 0.3498, 0.3159],\n",
       "        [0.4577, 0.7316, 0.6191, 0.3684, 0.7152, 0.0579]])"
      ]
     },
     "execution_count": 2,
     "metadata": {},
     "output_type": "execute_result"
    }
   ],
   "source": [
    "# tensor는 pytorch의 기본 단위이며, GPU 연산을 가능케 한다.\n",
    "x = torch.empty(5, 4)\n",
    "print(x)\n",
    "torch.ones(3, 3)\n",
    "torch.zeros(2, 3)\n",
    "torch.rand(5, 6)"
   ]
  },
  {
   "cell_type": "code",
   "execution_count": 3,
   "metadata": {},
   "outputs": [
    {
     "data": {
      "text/plain": [
       "tensor([13,  4])"
      ]
     },
     "execution_count": 3,
     "metadata": {},
     "output_type": "execute_result"
    },
    {
     "data": {
      "text/plain": [
       "tensor([ 4., 56.,  7.])"
      ]
     },
     "execution_count": 3,
     "metadata": {},
     "output_type": "execute_result"
    },
    {
     "data": {
      "text/plain": [
       "tensor([13,  4])"
      ]
     },
     "execution_count": 3,
     "metadata": {},
     "output_type": "execute_result"
    }
   ],
   "source": [
    "# list, numpy 배열을 텐서로 만들 수 있다.\n",
    "l = [13, 4]\n",
    "r = np.array([4, 56, 7])\n",
    "torch.tensor(l)\n",
    "\n",
    "# 구체적인 텐서 타입 정의 가능\n",
    "torch.FloatTensor(r)\n",
    "torch.LongTensor(l)"
   ]
  },
  {
   "cell_type": "code",
   "execution_count": 4,
   "metadata": {},
   "outputs": [
    {
     "data": {
      "text/plain": [
       "5"
      ]
     },
     "execution_count": 4,
     "metadata": {},
     "output_type": "execute_result"
    },
    {
     "data": {
      "text/plain": [
       "4"
      ]
     },
     "execution_count": 4,
     "metadata": {},
     "output_type": "execute_result"
    },
    {
     "data": {
      "text/plain": [
       "4"
      ]
     },
     "execution_count": 4,
     "metadata": {},
     "output_type": "execute_result"
    },
    {
     "data": {
      "text/plain": [
       "torch.Tensor"
      ]
     },
     "execution_count": 4,
     "metadata": {},
     "output_type": "execute_result"
    },
    {
     "data": {
      "text/plain": [
       "tensor([[1.5662, 0.4876],\n",
       "        [1.4279, 1.7184]])"
      ]
     },
     "execution_count": 4,
     "metadata": {},
     "output_type": "execute_result"
    },
    {
     "data": {
      "text/plain": [
       "tensor([[1.5662, 0.4876],\n",
       "        [1.4279, 1.7184]])"
      ]
     },
     "execution_count": 4,
     "metadata": {},
     "output_type": "execute_result"
    },
    {
     "data": {
      "text/plain": [
       "tensor([[1.5662, 0.4876],\n",
       "        [1.4279, 1.7184]])"
      ]
     },
     "execution_count": 4,
     "metadata": {},
     "output_type": "execute_result"
    }
   ],
   "source": [
    "# 텐서의 크기, 타입, 연산\n",
    "x.size()[0]\n",
    "x.size()[1]\n",
    "x.size(1)\n",
    "type(x)\n",
    "\n",
    "x = torch.rand(2, 2)\n",
    "y = torch.rand(2, 2)\n",
    "\n",
    "x + y\n",
    "torch.add(x, y)\n",
    "y.add_(x)"
   ]
  },
  {
   "cell_type": "code",
   "execution_count": 5,
   "metadata": {},
   "outputs": [
    {
     "data": {
      "text/plain": [
       "torch.Size([8, 8])"
      ]
     },
     "execution_count": 5,
     "metadata": {},
     "output_type": "execute_result"
    },
    {
     "data": {
      "text/plain": [
       "torch.Size([64])"
      ]
     },
     "execution_count": 5,
     "metadata": {},
     "output_type": "execute_result"
    },
    {
     "data": {
      "text/plain": [
       "torch.Size([4, 4, 4])"
      ]
     },
     "execution_count": 5,
     "metadata": {},
     "output_type": "execute_result"
    }
   ],
   "source": [
    "# 텐서의 크기 변환\n",
    "x = torch.rand(8, 8)\n",
    "x.size()\n",
    "\n",
    "x.view(64).size()\n",
    "x.view(-1, 4, 4).size()"
   ]
  },
  {
   "cell_type": "code",
   "execution_count": 6,
   "metadata": {},
   "outputs": [
    {
     "data": {
      "text/plain": [
       "tensor([[0.4335, 0.2842, 0.8258, 0.1735, 0.7965, 0.1039, 0.2069, 0.0958],\n",
       "        [0.9915, 0.8484, 0.1079, 0.8174, 0.0518, 0.6319, 0.7811, 0.1786],\n",
       "        [0.2484, 0.6419, 0.1837, 0.1604, 0.2068, 0.1233, 0.1769, 0.7503],\n",
       "        [0.8692, 0.8717, 0.4205, 0.3179, 0.3430, 0.7882, 0.6697, 0.8110],\n",
       "        [0.2347, 0.0442, 0.9406, 0.9246, 0.9610, 0.3252, 0.7491, 0.6673],\n",
       "        [0.9610, 0.9149, 0.2363, 0.8586, 0.6685, 0.7924, 0.5117, 0.5085],\n",
       "        [0.0411, 0.0348, 0.4892, 0.8489, 0.6030, 0.2595, 0.6872, 0.2041],\n",
       "        [0.6044, 0.5013, 0.7505, 0.9672, 0.1460, 0.5632, 0.6344, 0.4955]])"
      ]
     },
     "execution_count": 6,
     "metadata": {},
     "output_type": "execute_result"
    },
    {
     "data": {
      "text/plain": [
       "numpy.ndarray"
      ]
     },
     "execution_count": 6,
     "metadata": {},
     "output_type": "execute_result"
    },
    {
     "data": {
      "text/plain": [
       "array([[0.43350774, 0.2841658 , 0.825761  , 0.17348915, 0.7964874 ,\n",
       "        0.10388207, 0.20694906, 0.09578812],\n",
       "       [0.9914606 , 0.84841275, 0.10788041, 0.8174064 , 0.05178303,\n",
       "        0.63194096, 0.7810859 , 0.17864436],\n",
       "       [0.24844384, 0.6419355 , 0.18371534, 0.1603592 , 0.20681906,\n",
       "        0.12328637, 0.17690992, 0.7503293 ],\n",
       "       [0.8692238 , 0.87165105, 0.42048073, 0.3179356 , 0.34300137,\n",
       "        0.7882364 , 0.66965944, 0.8110309 ],\n",
       "       [0.2347449 , 0.04418343, 0.94055164, 0.92463636, 0.96101063,\n",
       "        0.3252439 , 0.7490751 , 0.6672712 ],\n",
       "       [0.9610376 , 0.9149217 , 0.23631144, 0.85862094, 0.6685312 ,\n",
       "        0.79240125, 0.5116703 , 0.5085176 ],\n",
       "       [0.04107189, 0.03476775, 0.4891562 , 0.84890586, 0.6029908 ,\n",
       "        0.2595278 , 0.6872187 , 0.20407963],\n",
       "       [0.6044436 , 0.5013479 , 0.75046283, 0.9671882 , 0.14600426,\n",
       "        0.56323606, 0.63439196, 0.49546736]], dtype=float32)"
      ]
     },
     "execution_count": 6,
     "metadata": {},
     "output_type": "execute_result"
    }
   ],
   "source": [
    "# 텐서에서 넘파이 배열로 변환\n",
    "x = torch.rand(8, 8)\n",
    "x\n",
    "y = x.numpy()\n",
    "type(y)\n",
    "y"
   ]
  },
  {
   "cell_type": "code",
   "execution_count": 7,
   "metadata": {},
   "outputs": [
    {
     "data": {
      "text/plain": [
       "1.0"
      ]
     },
     "execution_count": 7,
     "metadata": {},
     "output_type": "execute_result"
    }
   ],
   "source": [
    "# 단일 텐서에서 값으로 반환하기\n",
    "x = torch.ones(1)  \n",
    "x.item()    #.item()은 손실 함숫값과 같이 숫자가 하나인 텐서를 텐서가 아닌 값으로 만들어 준다."
   ]
  }
 ],
 "metadata": {
  "kernelspec": {
   "display_name": "pytorch",
   "language": "python",
   "name": "python3"
  },
  "language_info": {
   "codemirror_mode": {
    "name": "ipython",
    "version": 3
   },
   "file_extension": ".py",
   "mimetype": "text/x-python",
   "name": "python",
   "nbconvert_exporter": "python",
   "pygments_lexer": "ipython3",
   "version": "3.13.2"
  }
 },
 "nbformat": 4,
 "nbformat_minor": 2
}
