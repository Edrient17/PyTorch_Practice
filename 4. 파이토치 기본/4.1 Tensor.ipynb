{
 "cells": [
  {
   "cell_type": "code",
   "execution_count": 1,
   "metadata": {},
   "outputs": [],
   "source": [
    "import torch\n",
    "import numpy as np\n",
    "from IPython.core.interactiveshell import InteractiveShell\n",
    "InteractiveShell.ast_node_interactivity = \"all\""
   ]
  },
  {
   "cell_type": "code",
   "execution_count": 2,
   "metadata": {},
   "outputs": [
    {
     "name": "stdout",
     "output_type": "stream",
     "text": [
      "tensor([[-1.2507e-01,  1.2093e-42,  0.0000e+00,  0.0000e+00],\n",
      "        [ 0.0000e+00,  0.0000e+00,  0.0000e+00,  0.0000e+00],\n",
      "        [ 0.0000e+00,  0.0000e+00,  0.0000e+00,  0.0000e+00],\n",
      "        [ 0.0000e+00,  0.0000e+00,  0.0000e+00,  0.0000e+00],\n",
      "        [ 0.0000e+00,  0.0000e+00,  0.0000e+00,  0.0000e+00]])\n"
     ]
    },
    {
     "data": {
      "text/plain": [
       "tensor([[1., 1., 1.],\n",
       "        [1., 1., 1.],\n",
       "        [1., 1., 1.]])"
      ]
     },
     "execution_count": 2,
     "metadata": {},
     "output_type": "execute_result"
    },
    {
     "data": {
      "text/plain": [
       "tensor([[0., 0., 0.],\n",
       "        [0., 0., 0.]])"
      ]
     },
     "execution_count": 2,
     "metadata": {},
     "output_type": "execute_result"
    },
    {
     "data": {
      "text/plain": [
       "tensor([[0.2156, 0.0738, 0.8240, 0.0443, 0.5992, 0.6530],\n",
       "        [0.7788, 0.8670, 0.7421, 0.7480, 0.8493, 0.0631],\n",
       "        [0.1434, 0.2229, 0.9660, 0.4704, 0.9918, 0.8416],\n",
       "        [0.0686, 0.5494, 0.1796, 0.4395, 0.6185, 0.6814],\n",
       "        [0.0231, 0.9182, 0.3472, 0.1729, 0.8987, 0.9576]])"
      ]
     },
     "execution_count": 2,
     "metadata": {},
     "output_type": "execute_result"
    }
   ],
   "source": [
    "# tensor는 pytorch의 기본 단위이며, GPU 연산을 가능케 한다.\n",
    "x = torch.empty(5, 4)\n",
    "print(x)\n",
    "torch.ones(3, 3)\n",
    "torch.zeros(2, 3)\n",
    "torch.rand(5, 6)"
   ]
  },
  {
   "cell_type": "code",
   "execution_count": 3,
   "metadata": {},
   "outputs": [
    {
     "data": {
      "text/plain": [
       "tensor([13,  4])"
      ]
     },
     "execution_count": 3,
     "metadata": {},
     "output_type": "execute_result"
    },
    {
     "data": {
      "text/plain": [
       "tensor([ 4., 56.,  7.])"
      ]
     },
     "execution_count": 3,
     "metadata": {},
     "output_type": "execute_result"
    }
   ],
   "source": [
    "# list, numpy 배열을 텐서로 만들 수 있다.\n",
    "l = [13, 4]\n",
    "r = np.array([4, 56, 7])\n",
    "torch.tensor(l)\n",
    "torch.FloatTensor(r)"
   ]
  },
  {
   "cell_type": "code",
   "execution_count": 4,
   "metadata": {},
   "outputs": [
    {
     "data": {
      "text/plain": [
       "5"
      ]
     },
     "execution_count": 4,
     "metadata": {},
     "output_type": "execute_result"
    },
    {
     "data": {
      "text/plain": [
       "4"
      ]
     },
     "execution_count": 4,
     "metadata": {},
     "output_type": "execute_result"
    },
    {
     "data": {
      "text/plain": [
       "torch.Tensor"
      ]
     },
     "execution_count": 4,
     "metadata": {},
     "output_type": "execute_result"
    },
    {
     "data": {
      "text/plain": [
       "tensor([[0.8181, 0.9480],\n",
       "        [0.9557, 0.7195]])"
      ]
     },
     "execution_count": 4,
     "metadata": {},
     "output_type": "execute_result"
    },
    {
     "data": {
      "text/plain": [
       "tensor([[0.8181, 0.9480],\n",
       "        [0.9557, 0.7195]])"
      ]
     },
     "execution_count": 4,
     "metadata": {},
     "output_type": "execute_result"
    },
    {
     "data": {
      "text/plain": [
       "tensor([[0.8181, 0.9480],\n",
       "        [0.9557, 0.7195]])"
      ]
     },
     "execution_count": 4,
     "metadata": {},
     "output_type": "execute_result"
    }
   ],
   "source": [
    "# 텐서의 크기, 타입, 연산\n",
    "x.size()[0]\n",
    "x.size()[1]\n",
    "type(x)\n",
    "\n",
    "x = torch.rand(2, 2)\n",
    "y = torch.rand(2, 2)\n",
    "x + y\n",
    "torch.add(x, y)\n",
    "y.add_(x)"
   ]
  },
  {
   "cell_type": "code",
   "execution_count": 5,
   "metadata": {},
   "outputs": [
    {
     "data": {
      "text/plain": [
       "torch.Size([8, 8])"
      ]
     },
     "execution_count": 5,
     "metadata": {},
     "output_type": "execute_result"
    },
    {
     "data": {
      "text/plain": [
       "torch.Size([64])"
      ]
     },
     "execution_count": 5,
     "metadata": {},
     "output_type": "execute_result"
    },
    {
     "data": {
      "text/plain": [
       "torch.Size([4, 4, 4])"
      ]
     },
     "execution_count": 5,
     "metadata": {},
     "output_type": "execute_result"
    }
   ],
   "source": [
    "# 텐서의 크기 변환\n",
    "x = torch.rand(8, 8)\n",
    "x.size()\n",
    "\n",
    "x.view(64).size()\n",
    "x.view(-1, 4, 4).size()\n",
    "\n"
   ]
  },
  {
   "cell_type": "code",
   "execution_count": 6,
   "metadata": {},
   "outputs": [
    {
     "data": {
      "text/plain": [
       "tensor([[0.2681, 0.6937, 0.7762, 0.8337, 0.2970, 0.6762, 0.3111, 0.1138],\n",
       "        [0.3295, 0.2140, 0.0202, 0.2620, 0.7874, 0.0537, 0.9246, 0.5088],\n",
       "        [0.4415, 0.3962, 0.6263, 0.4950, 0.3249, 0.2168, 0.3118, 0.8979],\n",
       "        [0.9775, 0.1087, 0.7033, 0.6628, 0.3231, 0.7216, 0.0671, 0.7351],\n",
       "        [0.2114, 0.8249, 0.4123, 0.1924, 0.5906, 0.9622, 0.0103, 0.7912],\n",
       "        [0.2761, 0.9733, 0.5358, 0.9638, 0.4380, 0.9274, 0.1445, 0.2808],\n",
       "        [0.7416, 0.4270, 0.7044, 0.9257, 0.8179, 0.8093, 0.3390, 0.1854],\n",
       "        [0.0136, 0.6952, 0.2079, 0.2894, 0.0237, 0.1277, 0.5052, 0.7551]])"
      ]
     },
     "execution_count": 6,
     "metadata": {},
     "output_type": "execute_result"
    },
    {
     "data": {
      "text/plain": [
       "numpy.ndarray"
      ]
     },
     "execution_count": 6,
     "metadata": {},
     "output_type": "execute_result"
    },
    {
     "data": {
      "text/plain": [
       "array([[0.26810122, 0.6937438 , 0.7761841 , 0.83370894, 0.29701948,\n",
       "        0.676167  , 0.31109983, 0.11381507],\n",
       "       [0.32954568, 0.21404701, 0.02018255, 0.26196462, 0.78741264,\n",
       "        0.05370593, 0.924551  , 0.5087993 ],\n",
       "       [0.44147378, 0.3961708 , 0.6263196 , 0.49497294, 0.3249095 ,\n",
       "        0.2168073 , 0.31183523, 0.8978959 ],\n",
       "       [0.9775022 , 0.10866535, 0.7032622 , 0.6628386 , 0.32305503,\n",
       "        0.72158104, 0.06709135, 0.7350638 ],\n",
       "       [0.21139109, 0.8248656 , 0.41231865, 0.19240355, 0.59064543,\n",
       "        0.9621723 , 0.01029444, 0.7911781 ],\n",
       "       [0.276146  , 0.9733053 , 0.5357552 , 0.96384907, 0.4379995 ,\n",
       "        0.9274129 , 0.14445311, 0.28075272],\n",
       "       [0.7416489 , 0.42700273, 0.70441085, 0.9257435 , 0.81794816,\n",
       "        0.8092612 , 0.33900738, 0.18541044],\n",
       "       [0.01355606, 0.6952055 , 0.20793265, 0.28938663, 0.02366024,\n",
       "        0.12766355, 0.5051619 , 0.7550991 ]], dtype=float32)"
      ]
     },
     "execution_count": 6,
     "metadata": {},
     "output_type": "execute_result"
    }
   ],
   "source": [
    "# 텐서에서 넘파이 배열로 변환\n",
    "x = torch.rand(8, 8)\n",
    "x\n",
    "y = x.numpy()\n",
    "type(y)\n",
    "y"
   ]
  },
  {
   "cell_type": "code",
   "execution_count": 7,
   "metadata": {},
   "outputs": [
    {
     "data": {
      "text/plain": [
       "1.0"
      ]
     },
     "execution_count": 7,
     "metadata": {},
     "output_type": "execute_result"
    }
   ],
   "source": [
    "# 단일 텐서에서 값으로 반환하기\n",
    "x = torch.ones(1)\n",
    "x.item()"
   ]
  }
 ],
 "metadata": {
  "kernelspec": {
   "display_name": "pytorch",
   "language": "python",
   "name": "python3"
  },
  "language_info": {
   "codemirror_mode": {
    "name": "ipython",
    "version": 3
   },
   "file_extension": ".py",
   "mimetype": "text/x-python",
   "name": "python",
   "nbconvert_exporter": "python",
   "pygments_lexer": "ipython3",
   "version": "3.13.2"
  }
 },
 "nbformat": 4,
 "nbformat_minor": 2
}
