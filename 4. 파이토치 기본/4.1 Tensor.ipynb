{
 "cells": [
  {
   "cell_type": "code",
   "execution_count": null,
   "metadata": {},
   "outputs": [],
   "source": [
    "from IPython.core.interactiveshell import InteractiveShell\n",
    "InteractiveShell.ast_node_interactivity = \"all\"\n",
    "\n",
    "import torch\n",
    "import numpy as np"
   ]
  },
  {
   "cell_type": "code",
   "execution_count": 2,
   "metadata": {},
   "outputs": [
    {
     "name": "stdout",
     "output_type": "stream",
     "text": [
      "tensor([[0., 0., 0., 0.],\n",
      "        [0., 0., 0., 0.],\n",
      "        [0., 0., 0., 0.],\n",
      "        [0., 0., 0., 0.],\n",
      "        [0., 0., 0., 0.]])\n"
     ]
    },
    {
     "data": {
      "text/plain": [
       "tensor([[1., 1., 1.],\n",
       "        [1., 1., 1.],\n",
       "        [1., 1., 1.]])"
      ]
     },
     "execution_count": 2,
     "metadata": {},
     "output_type": "execute_result"
    },
    {
     "data": {
      "text/plain": [
       "tensor([[0., 0., 0.],\n",
       "        [0., 0., 0.]])"
      ]
     },
     "execution_count": 2,
     "metadata": {},
     "output_type": "execute_result"
    },
    {
     "data": {
      "text/plain": [
       "tensor([[0.6227, 0.0293, 0.5576, 0.8152, 0.6213, 0.9138],\n",
       "        [0.3363, 0.7015, 0.4153, 0.8583, 0.2862, 0.3620],\n",
       "        [0.1927, 0.4920, 0.9277, 0.2762, 0.6000, 0.7034],\n",
       "        [0.1242, 0.7660, 0.0178, 0.5658, 0.4134, 0.1838],\n",
       "        [0.0040, 0.0902, 0.8294, 0.0798, 0.6765, 0.7807]])"
      ]
     },
     "execution_count": 2,
     "metadata": {},
     "output_type": "execute_result"
    }
   ],
   "source": [
    "# tensor는 pytorch의 기본 단위이며, GPU 연산을 가능케 한다.\n",
    "x = torch.empty(5, 4)\n",
    "print(x)\n",
    "torch.ones(3, 3)\n",
    "torch.zeros(2, 3)\n",
    "torch.rand(5, 6)"
   ]
  },
  {
   "cell_type": "code",
   "execution_count": null,
   "metadata": {},
   "outputs": [
    {
     "data": {
      "text/plain": [
       "tensor([13,  4])"
      ]
     },
     "execution_count": 3,
     "metadata": {},
     "output_type": "execute_result"
    },
    {
     "data": {
      "text/plain": [
       "tensor([ 4., 56.,  7.])"
      ]
     },
     "execution_count": 3,
     "metadata": {},
     "output_type": "execute_result"
    },
    {
     "data": {
      "text/plain": [
       "tensor([13,  4])"
      ]
     },
     "execution_count": 3,
     "metadata": {},
     "output_type": "execute_result"
    }
   ],
   "source": [
    "# list, numpy 배열을 텐서로 만들 수 있다.\n",
    "l = [13, 4]\n",
    "r = np.array([4, 56, 7])\n",
    "torch.tensor(l)\n",
    "\n",
    "# 구체적인 텐서 타입 정의 가능\n",
    "torch.FloatTensor(r)\n",
    "torch.LongTensor(l)"
   ]
  },
  {
   "cell_type": "code",
   "execution_count": null,
   "metadata": {},
   "outputs": [
    {
     "data": {
      "text/plain": [
       "5"
      ]
     },
     "execution_count": 4,
     "metadata": {},
     "output_type": "execute_result"
    },
    {
     "data": {
      "text/plain": [
       "4"
      ]
     },
     "execution_count": 4,
     "metadata": {},
     "output_type": "execute_result"
    },
    {
     "data": {
      "text/plain": [
       "4"
      ]
     },
     "execution_count": 4,
     "metadata": {},
     "output_type": "execute_result"
    },
    {
     "data": {
      "text/plain": [
       "torch.Tensor"
      ]
     },
     "execution_count": 4,
     "metadata": {},
     "output_type": "execute_result"
    },
    {
     "data": {
      "text/plain": [
       "tensor([[0.6578, 1.6076],\n",
       "        [1.2648, 1.3083]])"
      ]
     },
     "execution_count": 4,
     "metadata": {},
     "output_type": "execute_result"
    },
    {
     "data": {
      "text/plain": [
       "tensor([[0.6578, 1.6076],\n",
       "        [1.2648, 1.3083]])"
      ]
     },
     "execution_count": 4,
     "metadata": {},
     "output_type": "execute_result"
    },
    {
     "data": {
      "text/plain": [
       "tensor([[0.6578, 1.6076],\n",
       "        [1.2648, 1.3083]])"
      ]
     },
     "execution_count": 4,
     "metadata": {},
     "output_type": "execute_result"
    }
   ],
   "source": [
    "# 텐서의 크기\n",
    "x.size()[0]\n",
    "x.size()[1]\n",
    "x.size(1)\n",
    "\n",
    "# 텐서의 타입\n",
    "type(x)\n",
    "\n",
    "# 텐서의 연산\n",
    "x = torch.rand(2, 2)\n",
    "y = torch.rand(2, 2)\n",
    "\n",
    "x + y\n",
    "torch.add(x, y)\n",
    "y.add_(x)"
   ]
  },
  {
   "cell_type": "code",
   "execution_count": 5,
   "metadata": {},
   "outputs": [
    {
     "data": {
      "text/plain": [
       "torch.Size([8, 8])"
      ]
     },
     "execution_count": 5,
     "metadata": {},
     "output_type": "execute_result"
    },
    {
     "data": {
      "text/plain": [
       "torch.Size([64])"
      ]
     },
     "execution_count": 5,
     "metadata": {},
     "output_type": "execute_result"
    },
    {
     "data": {
      "text/plain": [
       "torch.Size([4, 4, 4])"
      ]
     },
     "execution_count": 5,
     "metadata": {},
     "output_type": "execute_result"
    }
   ],
   "source": [
    "# 텐서의 크기 변환\n",
    "x = torch.rand(8, 8)\n",
    "x.size()\n",
    "\n",
    "x.view(64).size()\n",
    "x.view(-1, 4, 4).size()"
   ]
  },
  {
   "cell_type": "code",
   "execution_count": 6,
   "metadata": {},
   "outputs": [
    {
     "data": {
      "text/plain": [
       "tensor([[0.0095, 0.9362, 0.2347, 0.0105, 0.6823, 0.7393, 0.2130, 0.1776],\n",
       "        [0.8707, 0.6766, 0.1732, 0.1696, 0.8007, 0.9299, 0.7505, 0.1204],\n",
       "        [0.6716, 0.8063, 0.9501, 0.6818, 0.3019, 0.5249, 0.9190, 0.7284],\n",
       "        [0.4786, 0.4326, 0.3816, 0.0581, 0.9658, 0.9671, 0.8141, 0.6853],\n",
       "        [0.8039, 0.8618, 0.9362, 0.0178, 0.6840, 0.1393, 0.9714, 0.7304],\n",
       "        [0.7971, 0.3028, 0.8446, 0.2978, 0.3635, 0.3142, 0.2126, 0.7777],\n",
       "        [0.5547, 0.8154, 0.5651, 0.6553, 0.4740, 0.8427, 0.6274, 0.8040],\n",
       "        [0.7902, 0.4497, 0.4963, 0.6493, 0.1652, 0.9381, 0.2146, 0.3957]])"
      ]
     },
     "execution_count": 6,
     "metadata": {},
     "output_type": "execute_result"
    },
    {
     "data": {
      "text/plain": [
       "numpy.ndarray"
      ]
     },
     "execution_count": 6,
     "metadata": {},
     "output_type": "execute_result"
    },
    {
     "data": {
      "text/plain": [
       "array([[0.00953919, 0.9361631 , 0.23467654, 0.01052511, 0.6822671 ,\n",
       "        0.73925483, 0.21297741, 0.1775735 ],\n",
       "       [0.8707028 , 0.67656314, 0.17324841, 0.16957557, 0.8007373 ,\n",
       "        0.9299143 , 0.75045854, 0.1204145 ],\n",
       "       [0.6716465 , 0.80629534, 0.9501064 , 0.6818373 , 0.30188608,\n",
       "        0.5249372 , 0.91897666, 0.7283516 ],\n",
       "       [0.47864753, 0.43255222, 0.3816318 , 0.0580954 , 0.96582747,\n",
       "        0.9670614 , 0.81410867, 0.68530047],\n",
       "       [0.8039224 , 0.86177754, 0.936201  , 0.01783168, 0.6840261 ,\n",
       "        0.13931096, 0.9714342 , 0.7303614 ],\n",
       "       [0.79705924, 0.30277365, 0.84457844, 0.2977764 , 0.36345142,\n",
       "        0.31421787, 0.21256375, 0.77766454],\n",
       "       [0.5547052 , 0.81539804, 0.56513774, 0.65529954, 0.47399348,\n",
       "        0.8426952 , 0.62744147, 0.8040269 ],\n",
       "       [0.79015905, 0.4496904 , 0.49625957, 0.6493119 , 0.16517079,\n",
       "        0.93809545, 0.21461177, 0.39567125]], dtype=float32)"
      ]
     },
     "execution_count": 6,
     "metadata": {},
     "output_type": "execute_result"
    }
   ],
   "source": [
    "# 텐서에서 넘파이 배열로 변환\n",
    "x = torch.rand(8, 8)\n",
    "x\n",
    "y = x.numpy()\n",
    "type(y)\n",
    "y"
   ]
  },
  {
   "cell_type": "code",
   "execution_count": 7,
   "metadata": {},
   "outputs": [
    {
     "data": {
      "text/plain": [
       "1.0"
      ]
     },
     "execution_count": 7,
     "metadata": {},
     "output_type": "execute_result"
    }
   ],
   "source": [
    "# 단일 텐서에서 값으로 반환하기\n",
    "x = torch.ones(1)  \n",
    "x.item()    #.item()은 손실 함숫값과 같이 숫자가 하나인 텐서를 텐서가 아닌 값으로 만들어 준다."
   ]
  },
  {
   "cell_type": "markdown",
   "metadata": {},
   "source": [
    "### 텐서의 핵심 개념\n",
    "\n",
    "| 개념 | 설명 |\n",
    "|------|------|\n",
    "| **스칼라 (Scalar)** | 0차원 텐서. 예: `torch.tensor(3.0)` |\n",
    "| **벡터 (Vector)** | 1차원 텐서. 예: `torch.tensor([1.0, 2.0, 3.0])` |\n",
    "| **행렬 (Matrix)** | 2차원 텐서. 예: `torch.tensor([[1, 2], [3, 4]])` |\n",
    "| **3차원 이상 텐서** | 이미지나 시계열 데이터 등에 사용. 예: `[batch_size, channel, height, width]` 형태 |\n",
    "\n",
    "\n",
    "### 🔧 텐서 생성 예시\n",
    "\n",
    "```python\n",
    "import torch\n",
    "\n",
    "# 1차원 텐서\n",
    "a = torch.tensor([1.0, 2.0, 3.0])\n",
    "\n",
    "# 2차원 텐서\n",
    "b = torch.tensor([[1, 2], [3, 4]])\n",
    "\n",
    "# 0으로 채워진 텐서\n",
    "c = torch.zeros((2, 3))\n",
    "\n",
    "# 랜덤 텐서\n",
    "d = torch.rand((2, 3))\n",
    "\n",
    "# GPU 텐서로 생성\n",
    "e = torch.tensor([1.0, 2.0]).to('cuda')\n",
    "```"
   ]
  }
 ],
 "metadata": {
  "kernelspec": {
   "display_name": "pytorch",
   "language": "python",
   "name": "python3"
  },
  "language_info": {
   "codemirror_mode": {
    "name": "ipython",
    "version": 3
   },
   "file_extension": ".py",
   "mimetype": "text/x-python",
   "name": "python",
   "nbconvert_exporter": "python",
   "pygments_lexer": "ipython3",
   "version": "3.13.2"
  }
 },
 "nbformat": 4,
 "nbformat_minor": 2
}
